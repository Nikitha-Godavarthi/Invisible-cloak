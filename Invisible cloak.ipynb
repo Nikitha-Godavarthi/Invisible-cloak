{
 "cells": [
  {
   "cell_type": "code",
   "execution_count": 6,
   "metadata": {},
   "outputs": [],
   "source": [
    "#import necessary libraries\n",
    "import cv2\n",
    "import numpy as np\n",
    "import time"
   ]
  },
  {
   "cell_type": "code",
   "execution_count": 5,
   "metadata": {},
   "outputs": [],
   "source": [
    "#Creating VideoCapture object\n",
    "cap  = cv2.VideoCapture(0)\n",
    "time.sleep(3) #Giving time for the camera to warm up \n",
    "\n",
    "background = 0\n",
    "for i in range(30):\n",
    "    ret,background = cap.read() #Capturing multiple images of static background to reduce noise\n",
    "    background = np.flip(background,axis=1)\n",
    "while True:\n",
    "    \n",
    "    ret,img = cap.read()\n",
    "    img = np.flip(img,axis = 1)\n",
    "    hsv = cv2.cvtColor(img,cv2.COLOR_BGR2HSV)\n",
    "\n",
    "    #Creating mask for the red colored cloth\n",
    "    lower_red = np.array([0,120,70])\n",
    "    upper_red  = np.array([10,255,255])\n",
    "    mask1 = cv2.inRange(hsv,lower_red,upper_red)\n",
    "\n",
    "    lower_red = np.array([170,120,70])\n",
    "    upper_red  = np.array([180,255,255])\n",
    "    mask2 = cv2.inRange(hsv,lower_red,upper_red)\n",
    "\n",
    "    mask = mask1+mask2\n",
    "\n",
    "    #Segmenting out the detected red colored cloth \n",
    "    mask1 = cv2.morphologyEx(mask,cv2.MORPH_OPEN,np.ones((3,3),np.uint8))\n",
    "    mask1 = cv2.morphologyEx(mask,cv2.MORPH_DILATE,np.ones((3,3),np.uint8))\n",
    "\n",
    "    mask2 = cv2.bitwise_not(mask1)\n",
    "\n",
    "    res1 = cv2.bitwise_and(img,img,mask = mask2)\n",
    "    res2 = cv2.bitwise_and(background,background,mask = mask1)\n",
    "\n",
    "    final_output = cv2.addWeighted(res1,1,res2,1,0)\n",
    "    cv2.imshow('Magic',final_output)\n",
    "    k = cv2.waitKey(1) & 0xff\n",
    "    if k == 27:\n",
    "        break\n",
    "cap.release()\n",
    "cv2.destroyAllWindows()"
   ]
  },
  {
   "cell_type": "code",
   "execution_count": null,
   "metadata": {},
   "outputs": [],
   "source": []
  }
 ],
 "metadata": {
  "kernelspec": {
   "display_name": "Python 3",
   "language": "python",
   "name": "python3"
  },
  "language_info": {
   "codemirror_mode": {
    "name": "ipython",
    "version": 3
   },
   "file_extension": ".py",
   "mimetype": "text/x-python",
   "name": "python",
   "nbconvert_exporter": "python",
   "pygments_lexer": "ipython3",
   "version": "3.7.3"
  }
 },
 "nbformat": 4,
 "nbformat_minor": 4
}
